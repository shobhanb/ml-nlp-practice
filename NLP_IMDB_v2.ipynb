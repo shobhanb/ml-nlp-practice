{
  "nbformat": 4,
  "nbformat_minor": 0,
  "metadata": {
    "colab": {
      "name": "NLP - IMDB v2.ipynb",
      "provenance": [],
      "authorship_tag": "ABX9TyNL4tG7Xf9m48qzI0L/S6eO",
      "include_colab_link": true
    },
    "kernelspec": {
      "name": "python3",
      "display_name": "Python 3"
    },
    "accelerator": "GPU"
  },
  "cells": [
    {
      "cell_type": "markdown",
      "metadata": {
        "id": "view-in-github",
        "colab_type": "text"
      },
      "source": [
        "<a href=\"https://colab.research.google.com/github/shobhanb/ml-nlp-practice/blob/master/NLP_IMDB_v2.ipynb\" target=\"_parent\"><img src=\"https://colab.research.google.com/assets/colab-badge.svg\" alt=\"Open In Colab\"/></a>"
      ]
    },
    {
      "cell_type": "markdown",
      "metadata": {
        "id": "j6gVBI0P3pHL",
        "colab_type": "text"
      },
      "source": [
        "#Natural Language Processing ML practice\n",
        "**Sentiment classification - IMDB Reviews dataset**\n",
        "\n",
        "Version 2.0\n",
        "* TFDS for data retrieval\n",
        "* NLTK for stop words / basic stuff\n",
        "* TF HUB for imported embedding layer\n",
        "* Keras for RNN model\n",
        "\n",
        "# Conclusion\n",
        "\n",
        "* GNEWS 20dim - performance to 86% \n",
        "* Wiki Words 250 - Performance decreased!\n"
      ]
    },
    {
      "cell_type": "code",
      "metadata": {
        "id": "gxlGALjUY0sj",
        "colab_type": "code",
        "colab": {
          "base_uri": "https://localhost:8080/",
          "height": 102
        },
        "outputId": "e211a2c8-4ded-4fca-d1a2-f4352f4f3ab3"
      },
      "source": [
        "\n",
        "import numpy as np\n",
        "import pandas as pd\n",
        "import matplotlib.pyplot as plt\n",
        "plt.style.use('seaborn')\n",
        "%matplotlib inline\n",
        "import os, random, datetime\n",
        "\n",
        "import tensorflow as tf\n",
        "import tensorflow_datasets as tfds\n",
        "import tensorflow_hub as hub\n",
        "\n",
        "from tensorflow.keras.preprocessing.text import Tokenizer\n",
        "from tensorflow.keras.preprocessing.sequence import pad_sequences\n",
        "from tensorflow.keras.utils import to_categorical\n",
        "from tensorflow.keras import layers\n",
        "from tensorflow.data.experimental import AUTOTUNE\n",
        "tfds.disable_progress_bar()\n",
        "\n",
        "import nltk, string, re\n",
        "from nltk.stem import WordNetLemmatizer\n",
        "from nltk.corpus import stopwords\n",
        "nltk.download('stopwords')\n",
        "nltk.download('wordnet')\n"
      ],
      "execution_count": 2,
      "outputs": [
        {
          "output_type": "stream",
          "text": [
            "[nltk_data] Downloading package stopwords to /root/nltk_data...\n",
            "[nltk_data]   Unzipping corpora/stopwords.zip.\n",
            "[nltk_data] Downloading package wordnet to /root/nltk_data...\n",
            "[nltk_data]   Unzipping corpora/wordnet.zip.\n"
          ],
          "name": "stdout"
        },
        {
          "output_type": "execute_result",
          "data": {
            "text/plain": [
              "True"
            ]
          },
          "metadata": {
            "tags": []
          },
          "execution_count": 2
        }
      ]
    },
    {
      "cell_type": "code",
      "metadata": {
        "id": "cKhR5b9_WAhF",
        "colab_type": "code",
        "colab": {
          "base_uri": "https://localhost:8080/",
          "height": 122
        },
        "outputId": "88381ebf-597a-4781-ba90-987d42ae597d"
      },
      "source": [
        "# Since Test is same size as Train (25k) - let's split Test into Validation & Test 50/50\n",
        "\n",
        "(ds_train, ds_val, ds_test), ds_info = tfds.load(\n",
        "    'imdb_reviews/plain_text', \n",
        "    split=['train', 'test[:50%]', 'test[50%:]'], \n",
        "    as_supervised=True, \n",
        "    with_info=True, \n",
        "    shuffle_files=True\n",
        ")\n",
        "\n"
      ],
      "execution_count": 3,
      "outputs": [
        {
          "output_type": "stream",
          "text": [
            "\u001b[1mDownloading and preparing dataset imdb_reviews/plain_text/1.0.0 (download: 80.23 MiB, generated: Unknown size, total: 80.23 MiB) to /root/tensorflow_datasets/imdb_reviews/plain_text/1.0.0...\u001b[0m\n",
            "Shuffling and writing examples to /root/tensorflow_datasets/imdb_reviews/plain_text/1.0.0.incompleteQDHUPG/imdb_reviews-train.tfrecord\n",
            "Shuffling and writing examples to /root/tensorflow_datasets/imdb_reviews/plain_text/1.0.0.incompleteQDHUPG/imdb_reviews-test.tfrecord\n",
            "Shuffling and writing examples to /root/tensorflow_datasets/imdb_reviews/plain_text/1.0.0.incompleteQDHUPG/imdb_reviews-unsupervised.tfrecord\n",
            "\u001b[1mDataset imdb_reviews downloaded and prepared to /root/tensorflow_datasets/imdb_reviews/plain_text/1.0.0. Subsequent calls will reuse this data.\u001b[0m\n"
          ],
          "name": "stdout"
        }
      ]
    },
    {
      "cell_type": "code",
      "metadata": {
        "id": "RNYdCpLrK7Ei",
        "colab_type": "code",
        "colab": {
          "base_uri": "https://localhost:8080/",
          "height": 173
        },
        "outputId": "1f3d42f8-119a-4e22-83bd-9eeb1b225fb2"
      },
      "source": [
        "for a, b in ds_train.take(4):\n",
        "    print(a)\n",
        "    print(b)\n",
        "    \n"
      ],
      "execution_count": 196,
      "outputs": [
        {
          "output_type": "stream",
          "text": [
            "tf.Tensor(b\"This was an absolutely terrible movie. Don't be lured in by Christopher Walken or Michael Ironside. Both are great actors, but this must simply be their worst role in history. Even their great acting could not redeem this movie's ridiculous storyline. This movie is an early nineties US propaganda piece. The most pathetic scenes were those when the Columbian rebels were making their cases for revolutions. Maria Conchita Alonso appeared phony, and her pseudo-love affair with Walken was nothing but a pathetic emotional plug in a movie that was devoid of any real meaning. I am disappointed that there are movies like this, ruining actor's like Christopher Walken's good name. I could barely sit through it.\", shape=(), dtype=string)\n",
            "tf.Tensor(0, shape=(), dtype=int64)\n",
            "tf.Tensor(b'I have been known to fall asleep during films, but this is usually due to a combination of things including, really tired, being warm and comfortable on the sette and having just eaten a lot. However on this occasion I fell asleep because the film was rubbish. The plot development was constant. Constantly slow and boring. Things seemed to happen, but with no explanation of what was causing them or why. I admit, I may have missed part of the film, but i watched the majority of it and everything just seemed to happen of its own accord without any real concern for anything else. I cant recommend this film at all.', shape=(), dtype=string)\n",
            "tf.Tensor(0, shape=(), dtype=int64)\n",
            "tf.Tensor(b'Mann photographs the Alberta Rocky Mountains in a superb fashion, and Jimmy Stewart and Walter Brennan give enjoyable performances as they always seem to do. <br /><br />But come on Hollywood - a Mountie telling the people of Dawson City, Yukon to elect themselves a marshal (yes a marshal!) and to enforce the law themselves, then gunfighters battling it out on the streets for control of the town? <br /><br />Nothing even remotely resembling that happened on the Canadian side of the border during the Klondike gold rush. Mr. Mann and company appear to have mistaken Dawson City for Deadwood, the Canadian North for the American Wild West.<br /><br />Canadian viewers be prepared for a Reefer Madness type of enjoyable howl with this ludicrous plot, or, to shake your head in disgust.', shape=(), dtype=string)\n",
            "tf.Tensor(0, shape=(), dtype=int64)\n",
            "tf.Tensor(b'This is the kind of film for a snowy Sunday afternoon when the rest of the world can go ahead with its own business as you descend into a big arm-chair and mellow for a couple of hours. Wonderful performances from Cher and Nicolas Cage (as always) gently row the plot along. There are no rapids to cross, no dangerous waters, just a warm and witty paddle through New York life at its best. A family film in every sense and one that deserves the praise it received.', shape=(), dtype=string)\n",
            "tf.Tensor(1, shape=(), dtype=int64)\n"
          ],
          "name": "stdout"
        }
      ]
    },
    {
      "cell_type": "code",
      "metadata": {
        "id": "X3F4Z3vERk2z",
        "colab_type": "code",
        "colab": {}
      },
      "source": [
        "BATCH_SIZE = 128\n",
        "\n",
        "ds_train = ds_train.cache()\n",
        "ds_train = ds_train.shuffle(ds_info.splits['train'].num_examples)\n",
        "ds_train = ds_train.batch(BATCH_SIZE)\n",
        "ds_train = ds_train.prefetch(AUTOTUNE)\n",
        "\n",
        "ds_val = ds_val.batch(BATCH_SIZE)\n",
        "ds_val = ds_val.cache()\n",
        "ds_val = ds_val.prefetch(AUTOTUNE)\n",
        "\n",
        "ds_test = ds_test.batch(BATCH_SIZE)\n",
        "ds_test = ds_test.cache()\n",
        "ds_test = ds_test.prefetch(AUTOTUNE)\n"
      ],
      "execution_count": 4,
      "outputs": []
    },
    {
      "cell_type": "code",
      "metadata": {
        "id": "Ubz_EBOxUlXb",
        "colab_type": "code",
        "colab": {
          "base_uri": "https://localhost:8080/",
          "height": 357
        },
        "outputId": "33de6ba9-e174-424f-fc68-ccdd89e52be7"
      },
      "source": [
        "hub_link = 'https://tfhub.dev/google/Wiki-words-250/2'\n",
        "lr = 0.001 \n",
        "embedding_dim = 250\n",
        "\n",
        "embed_layer = hub.KerasLayer(\n",
        "    hub_link, \n",
        "    trainable=True,\n",
        "    output_shape=[embedding_dim], \n",
        "    input_shape=[], \n",
        "    dtype=tf.string\n",
        ")\n",
        "\n",
        "model = tf.keras.Sequential([\n",
        "    embed_layer,\n",
        "    layers.Reshape((embedding_dim, 1)),\n",
        "    layers.Bidirectional(layers.LSTM(embedding_dim)),\n",
        "    layers.Dropout(0.5),\n",
        "    layers.Dense(embedding_dim, activation='relu'),\n",
        "    layers.Dense(1, activation='sigmoid')\n",
        "])\n",
        "\n",
        "model.summary()\n",
        "\n",
        "model.compile(\n",
        "    optimizer=tf.keras.optimizers.Adam(learning_rate=lr),\n",
        "    loss='binary_crossentropy',\n",
        "    metrics=['accuracy']\n",
        ")"
      ],
      "execution_count": 5,
      "outputs": [
        {
          "output_type": "stream",
          "text": [
            "Model: \"sequential\"\n",
            "_________________________________________________________________\n",
            "Layer (type)                 Output Shape              Param #   \n",
            "=================================================================\n",
            "keras_layer (KerasLayer)     (None, 250)               252343750 \n",
            "_________________________________________________________________\n",
            "reshape (Reshape)            (None, 250, 1)            0         \n",
            "_________________________________________________________________\n",
            "bidirectional (Bidirectional (None, 500)               504000    \n",
            "_________________________________________________________________\n",
            "dropout (Dropout)            (None, 500)               0         \n",
            "_________________________________________________________________\n",
            "dense (Dense)                (None, 250)               125250    \n",
            "_________________________________________________________________\n",
            "dense_1 (Dense)              (None, 1)                 251       \n",
            "=================================================================\n",
            "Total params: 252,973,251\n",
            "Trainable params: 252,973,251\n",
            "Non-trainable params: 0\n",
            "_________________________________________________________________\n"
          ],
          "name": "stdout"
        }
      ]
    },
    {
      "cell_type": "code",
      "metadata": {
        "id": "jJbY7oqZZcYr",
        "colab_type": "code",
        "colab": {
          "base_uri": "https://localhost:8080/",
          "height": 357
        },
        "outputId": "5c1dfe6c-107c-4611-c8b2-7573379d4a77"
      },
      "source": [
        "EPOCHS=10\n",
        "\n",
        "history = model.fit(\n",
        "    ds_train,\n",
        "    epochs=EPOCHS,\n",
        "    validation_data=ds_val\n",
        ")\n"
      ],
      "execution_count": 6,
      "outputs": [
        {
          "output_type": "stream",
          "text": [
            "Epoch 1/10\n",
            "196/196 [==============================] - 82s 419ms/step - loss: 0.5781 - accuracy: 0.7348 - val_loss: 0.3418 - val_accuracy: 0.8539\n",
            "Epoch 2/10\n",
            "196/196 [==============================] - 80s 410ms/step - loss: 0.2223 - accuracy: 0.9141 - val_loss: 0.3286 - val_accuracy: 0.8629\n",
            "Epoch 3/10\n",
            "196/196 [==============================] - 80s 410ms/step - loss: 0.1041 - accuracy: 0.9646 - val_loss: 0.4403 - val_accuracy: 0.8470\n",
            "Epoch 4/10\n",
            "196/196 [==============================] - 80s 410ms/step - loss: 0.0535 - accuracy: 0.9830 - val_loss: 0.4699 - val_accuracy: 0.8472\n",
            "Epoch 5/10\n",
            "196/196 [==============================] - 80s 410ms/step - loss: 0.0354 - accuracy: 0.9892 - val_loss: 0.6864 - val_accuracy: 0.8319\n",
            "Epoch 6/10\n",
            "196/196 [==============================] - 81s 411ms/step - loss: 0.0145 - accuracy: 0.9955 - val_loss: 0.9551 - val_accuracy: 0.8303\n",
            "Epoch 7/10\n",
            "196/196 [==============================] - 80s 410ms/step - loss: 0.0098 - accuracy: 0.9968 - val_loss: 1.3713 - val_accuracy: 0.8261\n",
            "Epoch 8/10\n",
            "196/196 [==============================] - 80s 410ms/step - loss: 0.0136 - accuracy: 0.9952 - val_loss: 1.1702 - val_accuracy: 0.8241\n",
            "Epoch 9/10\n",
            "196/196 [==============================] - 80s 410ms/step - loss: 0.0102 - accuracy: 0.9967 - val_loss: 1.1207 - val_accuracy: 0.8201\n",
            "Epoch 10/10\n",
            "196/196 [==============================] - 81s 411ms/step - loss: 0.0171 - accuracy: 0.9942 - val_loss: 1.0135 - val_accuracy: 0.7613\n"
          ],
          "name": "stdout"
        }
      ]
    },
    {
      "cell_type": "code",
      "metadata": {
        "id": "s1tCQsOEZoqa",
        "colab_type": "code",
        "colab": {
          "base_uri": "https://localhost:8080/",
          "height": 513
        },
        "outputId": "f60afff1-4a2b-4285-da87-cf1848983aaf"
      },
      "source": [
        "acc = history.history['accuracy']\n",
        "val_acc = history.history['val_accuracy']\n",
        "loss = history.history['loss']\n",
        "val_loss = history.history['val_loss']\n",
        "epochs = range(len(acc))\n",
        "\n",
        "plt.plot(epochs, acc, label='Training Accuracy')\n",
        "plt.plot(epochs, val_acc, label='Validation Accuracy')\n",
        "plt.legend()\n",
        "\n",
        "plt.figure()\n",
        "plt.plot(epochs, loss, label='Training Loss')\n",
        "plt.plot(epochs, val_loss, label='Validation Loss')\n",
        "plt.legend()\n",
        "\n",
        "plt.show()\n"
      ],
      "execution_count": 7,
      "outputs": [
        {
          "output_type": "display_data",
          "data": {
            "image/png": "[encoded data removed]",
            "text/plain": [
              "<Figure size 432x288 with 1 Axes>"
            ]
          },
          "metadata": {
            "tags": [],
            "needs_background": "light"
          }
        },
        {
          "output_type": "display_data",
          "data": {
            "image/png": "[encoded data removed]",
            "text/plain": [
              "<Figure size 432x288 with 1 Axes>"
            ]
          },
          "metadata": {
            "tags": [],
            "needs_background": "light"
          }
        }
      ]
    },
    {
      "cell_type": "code",
      "metadata": {
        "id": "yO21iDe5efiw",
        "colab_type": "code",
        "colab": {
          "base_uri": "https://localhost:8080/",
          "height": 51
        },
        "outputId": "6fedc600-41e1-435d-8c98-2dc969bdf2cb"
      },
      "source": [
        "model.evaluate(ds_test)"
      ],
      "execution_count": 229,
      "outputs": [
        {
          "output_type": "stream",
          "text": [
            "98/98 [==============================] - 1s 12ms/step - loss: 0.4092 - accuracy: 0.8602\n"
          ],
          "name": "stdout"
        },
        {
          "output_type": "execute_result",
          "data": {
            "text/plain": [
              "[0.40917858481407166, 0.8601599931716919]"
            ]
          },
          "metadata": {
            "tags": []
          },
          "execution_count": 229
        }
      ]
    },
    {
      "cell_type": "code",
      "metadata": {
        "id": "S34Ds6kVI7fu",
        "colab_type": "code",
        "colab": {}
      },
      "source": [
        ""
      ],
      "execution_count": null,
      "outputs": []
    }
  ]
}