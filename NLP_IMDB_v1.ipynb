{
  "nbformat": 4,
  "nbformat_minor": 0,
  "metadata": {
    "colab": {
      "name": "NLP - IMDB v1.ipynb",
      "provenance": [],
      "authorship_tag": "ABX9TyOf5rrrmS+APVeA/Xp4WF0e",
      "include_colab_link": true
    },
    "kernelspec": {
      "name": "python3",
      "display_name": "Python 3"
    },
    "accelerator": "GPU"
  },
  "cells": [
    {
      "cell_type": "markdown",
      "metadata": {
        "id": "view-in-github",
        "colab_type": "text"
      },
      "source": [
        "<a href=\"https://colab.research.google.com/github/shobhanb/ml-nlp-practice/blob/master/NLP_IMDB_v1.ipynb\" target=\"_parent\"><img src=\"https://colab.research.google.com/assets/colab-badge.svg\" alt=\"Open In Colab\"/></a>"
      ]
    },
    {
      "cell_type": "markdown",
      "metadata": {
        "id": "j6gVBI0P3pHL",
        "colab_type": "text"
      },
      "source": [
        "#Natural Language Processing ML practice\n",
        "**Sentiment classification - IMDB Reviews dataset**\n",
        "\n",
        "Version 1.0\n",
        "* TFDS for data retrieval\n",
        "* NLTK for stop words / basic stuff\n",
        "* Keras for Tokens / Embed / RNN model\n",
        "\n",
        "# Conclusion\n",
        "\n",
        "Got to max Val/Test accuracy of 85% after trying various parameters of max_words, embedding dim & layers.\n",
        "\n",
        "Bidirectional w/ LSTM & Dropout gave the best output within 5 epochs"
      ]
    },
    {
      "cell_type": "code",
      "metadata": {
        "id": "gxlGALjUY0sj",
        "colab_type": "code",
        "colab": {
          "base_uri": "https://localhost:8080/",
          "height": 102
        },
        "outputId": "5845dd11-8e73-42e5-8f70-25ce81702d80"
      },
      "source": [
        "\n",
        "import numpy as np\n",
        "import pandas as pd\n",
        "import matplotlib.pyplot as plt\n",
        "plt.style.use('seaborn')\n",
        "%matplotlib inline\n",
        "import os, random, datetime\n",
        "\n",
        "import tensorflow as tf\n",
        "import tensorflow_datasets as tfds\n",
        "import tensorflow_hub as hub\n",
        "\n",
        "from tensorflow.keras.preprocessing.text import Tokenizer\n",
        "from tensorflow.keras.preprocessing.sequence import pad_sequences\n",
        "from tensorflow.keras.utils import to_categorical\n",
        "from tensorflow.keras import layers\n",
        "from tensorflow.data.experimental import AUTOTUNE\n",
        "tfds.disable_progress_bar()\n",
        "\n",
        "import nltk, string, re\n",
        "from nltk.stem import WordNetLemmatizer\n",
        "from nltk.corpus import stopwords\n",
        "nltk.download('stopwords')\n",
        "nltk.download('wordnet')\n"
      ],
      "execution_count": 106,
      "outputs": [
        {
          "output_type": "stream",
          "text": [
            "[nltk_data] Downloading package stopwords to /root/nltk_data...\n",
            "[nltk_data]   Package stopwords is already up-to-date!\n",
            "[nltk_data] Downloading package wordnet to /root/nltk_data...\n",
            "[nltk_data]   Package wordnet is already up-to-date!\n"
          ],
          "name": "stdout"
        },
        {
          "output_type": "execute_result",
          "data": {
            "text/plain": [
              "True"
            ]
          },
          "metadata": {
            "tags": []
          },
          "execution_count": 106
        }
      ]
    },
    {
      "cell_type": "code",
      "metadata": {
        "id": "cKhR5b9_WAhF",
        "colab_type": "code",
        "colab": {}
      },
      "source": [
        "# Since Test is same size as Train (25k) - let's split Test into Validation & Test 50/50\n",
        "\n",
        "(ds_train, ds_val, ds_test), ds_info = tfds.load(\n",
        "    'imdb_reviews/plain_text', \n",
        "    split=['train', 'test[:50%]', 'test[50%:]'], \n",
        "    as_supervised=True, \n",
        "    with_info=True, \n",
        "    shuffle_files=True\n",
        ")\n",
        "\n"
      ],
      "execution_count": 79,
      "outputs": []
    },
    {
      "cell_type": "code",
      "metadata": {
        "id": "RNYdCpLrK7Ei",
        "colab_type": "code",
        "colab": {
          "base_uri": "https://localhost:8080/",
          "height": 173
        },
        "outputId": "fb32ad81-0966-4fb8-f9b8-faac5bdaad25"
      },
      "source": [
        "for a, b in ds_train.take(4):\n",
        "    print(a)\n",
        "    print(b)\n",
        "    \n"
      ],
      "execution_count": 80,
      "outputs": [
        {
          "output_type": "stream",
          "text": [
            "tf.Tensor(b\"This was an absolutely terrible movie. Don't be lured in by Christopher Walken or Michael Ironside. Both are great actors, but this must simply be their worst role in history. Even their great acting could not redeem this movie's ridiculous storyline. This movie is an early nineties US propaganda piece. The most pathetic scenes were those when the Columbian rebels were making their cases for revolutions. Maria Conchita Alonso appeared phony, and her pseudo-love affair with Walken was nothing but a pathetic emotional plug in a movie that was devoid of any real meaning. I am disappointed that there are movies like this, ruining actor's like Christopher Walken's good name. I could barely sit through it.\", shape=(), dtype=string)\n",
            "tf.Tensor(0, shape=(), dtype=int64)\n",
            "tf.Tensor(b'I have been known to fall asleep during films, but this is usually due to a combination of things including, really tired, being warm and comfortable on the sette and having just eaten a lot. However on this occasion I fell asleep because the film was rubbish. The plot development was constant. Constantly slow and boring. Things seemed to happen, but with no explanation of what was causing them or why. I admit, I may have missed part of the film, but i watched the majority of it and everything just seemed to happen of its own accord without any real concern for anything else. I cant recommend this film at all.', shape=(), dtype=string)\n",
            "tf.Tensor(0, shape=(), dtype=int64)\n",
            "tf.Tensor(b'Mann photographs the Alberta Rocky Mountains in a superb fashion, and Jimmy Stewart and Walter Brennan give enjoyable performances as they always seem to do. <br /><br />But come on Hollywood - a Mountie telling the people of Dawson City, Yukon to elect themselves a marshal (yes a marshal!) and to enforce the law themselves, then gunfighters battling it out on the streets for control of the town? <br /><br />Nothing even remotely resembling that happened on the Canadian side of the border during the Klondike gold rush. Mr. Mann and company appear to have mistaken Dawson City for Deadwood, the Canadian North for the American Wild West.<br /><br />Canadian viewers be prepared for a Reefer Madness type of enjoyable howl with this ludicrous plot, or, to shake your head in disgust.', shape=(), dtype=string)\n",
            "tf.Tensor(0, shape=(), dtype=int64)\n",
            "tf.Tensor(b'This is the kind of film for a snowy Sunday afternoon when the rest of the world can go ahead with its own business as you descend into a big arm-chair and mellow for a couple of hours. Wonderful performances from Cher and Nicolas Cage (as always) gently row the plot along. There are no rapids to cross, no dangerous waters, just a warm and witty paddle through New York life at its best. A family film in every sense and one that deserves the praise it received.', shape=(), dtype=string)\n",
            "tf.Tensor(1, shape=(), dtype=int64)\n"
          ],
          "name": "stdout"
        }
      ]
    },
    {
      "cell_type": "code",
      "metadata": {
        "id": "X3F4Z3vERk2z",
        "colab_type": "code",
        "colab": {}
      },
      "source": [
        "\n",
        "ds_train = ds_train.cache()\n",
        "ds_train = ds_train.shuffle(ds_info.splits['train'].num_examples)\n",
        "\n",
        "ds_val = ds_val.cache()\n",
        "ds_test = ds_test.cache()\n"
      ],
      "execution_count": null,
      "outputs": []
    },
    {
      "cell_type": "code",
      "metadata": {
        "id": "_PXomz4WCEu5",
        "colab_type": "code",
        "colab": {
          "base_uri": "https://localhost:8080/",
          "height": 68
        },
        "outputId": "cf5b23be-7ce1-4d69-ecc0-85895a3081b6"
      },
      "source": [
        "stop_words = set(stopwords.words(\"english\")) \n",
        "lemmatizer = WordNetLemmatizer()\n",
        "\n",
        "\n",
        "\n",
        "def clean_text(text):\n",
        "    text = re.sub(r'[^\\w\\s]','',text, re.UNICODE)\n",
        "    text = text.lower()\n",
        "    text = [lemmatizer.lemmatize(token) for token in text.split(\" \")]\n",
        "    text = [lemmatizer.lemmatize(token, \"v\") for token in text]\n",
        "    text = [word for word in text if not word in stop_words]\n",
        "    text = \" \".join(text)\n",
        "    return text\n",
        "\n",
        "\n",
        "def clean_texts_ds(ds):\n",
        "    sentences, labels = [], []\n",
        "    for texts, label in iter(ds):\n",
        "        sentences.append(clean_text(texts.numpy().decode()))\n",
        "        labels.append(label)\n",
        "    return (sentences, np.asarray(labels))\n",
        "\n",
        "\n",
        "train_sentences, train_labels = clean_texts_ds(ds_train)\n",
        "val_sentences, val_labels = clean_texts_ds(ds_val)\n",
        "test_sentences, test_labels = clean_texts_ds(ds_test)\n",
        "\n",
        "print('Train Length: {}\\nVal Length: {}\\nTest Length: {}'\n",
        "    .format(len(train_sentences), len(val_sentences), len(test_sentences)))\n"
      ],
      "execution_count": 93,
      "outputs": [
        {
          "output_type": "stream",
          "text": [
            "Train Length: 25000\n",
            "Val Length: 12500\n",
            "Test Length: 12500\n"
          ],
          "name": "stdout"
        }
      ]
    },
    {
      "cell_type": "code",
      "metadata": {
        "id": "lfN6jTdV9k7y",
        "colab_type": "code",
        "colab": {
          "base_uri": "https://localhost:8080/",
          "height": 85
        },
        "outputId": "0d973b47-263b-49ec-8e83-c095cd10070d"
      },
      "source": [
        "print('Distribution of positive / negative labels in\\nTrain: {}\\nVal: {}\\nTest: {}'\n",
        "    .format(train_labels.mean(), val_labels.mean(), test_labels.mean()))"
      ],
      "execution_count": 122,
      "outputs": [
        {
          "output_type": "stream",
          "text": [
            "Distribution of positive / negative labels in\n",
            "Train: 0.5\n",
            "Val: 0.49672\n",
            "Test: 0.50328\n"
          ],
          "name": "stdout"
        }
      ]
    },
    {
      "cell_type": "code",
      "metadata": {
        "id": "QPstLTck5r3h",
        "colab_type": "code",
        "colab": {
          "base_uri": "https://localhost:8080/",
          "height": 68
        },
        "outputId": "ecdc2df0-ef58-4842-9eda-442a8d0d0816"
      },
      "source": [
        "\n",
        "def check_maxlen(sentences_list):\n",
        "    maxlen = 0\n",
        "    for sentence in sentences_list:\n",
        "        sentence_len = len(sentence.strip().split())\n",
        "        if sentence_len > maxlen:\n",
        "            maxlen = sentence_len\n",
        "    return maxlen\n",
        "\n",
        "print('Train max words: {}\\nVal max words: {}\\nTest max words: {}'\n",
        "    .format(check_maxlen(train_sentences), check_maxlen(val_sentences), check_maxlen(test_sentences)))"
      ],
      "execution_count": 94,
      "outputs": [
        {
          "output_type": "stream",
          "text": [
            "Train max words: 1482\n",
            "Val max words: 1265\n",
            "Test max words: 1236\n"
          ],
          "name": "stdout"
        }
      ]
    },
    {
      "cell_type": "code",
      "metadata": {
        "id": "0WD_q-Ec7Nxx",
        "colab_type": "code",
        "colab": {
          "base_uri": "https://localhost:8080/",
          "height": 265
        },
        "outputId": "faef69de-2d87-4b40-ae36-0748dc911c7f"
      },
      "source": [
        "train_len = []\n",
        "for sentence in train_sentences:\n",
        "    train_len.append(len(sentence.strip().split()))\n",
        "\n",
        "plt.hist(train_len, bins=np.arange(0,600,50))\n",
        "plt.show()"
      ],
      "execution_count": 114,
      "outputs": [
        {
          "output_type": "display_data",
          "data": {
            "image/png": "[encoded data removed]",
            "text/plain": [
              "<Figure size 432x288 with 1 Axes>"
            ]
          },
          "metadata": {
            "tags": [],
            "needs_background": "light"
          }
        }
      ]
    },
    {
      "cell_type": "code",
      "metadata": {
        "id": "nalX-SRPjwGX",
        "colab_type": "code",
        "colab": {
          "base_uri": "https://localhost:8080/",
          "height": 34
        },
        "outputId": "af62bd3d-cffd-4e79-91e6-26241a45717a"
      },
      "source": [
        "\n",
        "top_words=10000\n",
        "oov_token='<OOV>'\n",
        "max_length = 200\n",
        "padding='post'\n",
        "truncating='post'\n",
        "\n",
        "tokenizer = Tokenizer(num_words=top_words, oov_token=oov_token)\n",
        "tokenizer.fit_on_texts(train_sentences)\n",
        "word_index = tokenizer.word_index\n",
        "vocab_size = len(word_index) + 1\n",
        "\n",
        "\n",
        "def get_padded(sentences):\n",
        "    sequences = tokenizer.texts_to_sequences(sentences)\n",
        "    padded = pad_sequences(sequences, maxlen=max_length, padding=padding, truncating=truncating)\n",
        "    return padded\n",
        "\n",
        "\n",
        "train_padded = get_padded(train_sentences)\n",
        "val_padded = get_padded(val_sentences)\n",
        "test_padded = get_padded(test_sentences)\n",
        "\n",
        "\n",
        "vocab_size\n"
      ],
      "execution_count": 188,
      "outputs": [
        {
          "output_type": "execute_result",
          "data": {
            "text/plain": [
              "103447"
            ]
          },
          "metadata": {
            "tags": []
          },
          "execution_count": 188
        }
      ]
    },
    {
      "cell_type": "code",
      "metadata": {
        "id": "Ubz_EBOxUlXb",
        "colab_type": "code",
        "colab": {
          "base_uri": "https://localhost:8080/",
          "height": 323
        },
        "outputId": "cb5852ff-9bae-49ec-cf3e-63e03421240a"
      },
      "source": [
        "embedding_dim = 20\n",
        "lr = 0.01 \n",
        "\n",
        "model = tf.keras.Sequential([\n",
        "    layers.Embedding(top_words, embedding_dim),  \n",
        "    layers.Bidirectional(layers.LSTM(embedding_dim)),\n",
        "    layers.Dropout(0.2),\n",
        "    layers.Dense(embedding_dim*2, activation='relu'),\n",
        "    layers.Dense(1, activation='sigmoid')\n",
        "])\n",
        "\n",
        "model.summary()\n",
        "\n",
        "model.compile(\n",
        "    optimizer=tf.keras.optimizers.Adam(learning_rate=lr),\n",
        "    loss='binary_crossentropy',\n",
        "    metrics=['accuracy']\n",
        ")"
      ],
      "execution_count": 189,
      "outputs": [
        {
          "output_type": "stream",
          "text": [
            "Model: \"sequential_36\"\n",
            "_________________________________________________________________\n",
            "Layer (type)                 Output Shape              Param #   \n",
            "=================================================================\n",
            "embedding_36 (Embedding)     (None, None, 20)          200000    \n",
            "_________________________________________________________________\n",
            "bidirectional_24 (Bidirectio (None, 40)                6560      \n",
            "_________________________________________________________________\n",
            "dropout_22 (Dropout)         (None, 40)                0         \n",
            "_________________________________________________________________\n",
            "dense_72 (Dense)             (None, 40)                1640      \n",
            "_________________________________________________________________\n",
            "dense_73 (Dense)             (None, 1)                 41        \n",
            "=================================================================\n",
            "Total params: 208,241\n",
            "Trainable params: 208,241\n",
            "Non-trainable params: 0\n",
            "_________________________________________________________________\n"
          ],
          "name": "stdout"
        }
      ]
    },
    {
      "cell_type": "code",
      "metadata": {
        "id": "fpKwhzW-92l0",
        "colab_type": "code",
        "colab": {}
      },
      "source": [
        "#Callbacks - Not Used\n",
        "\n",
        "log_dir = 'logs/fit/' + datetime.datetime.now().strftime('%Y%m%d-%H%M%S')\n",
        "cb_tensorboard = tf.keras.callbacks.TensorBoard(log_dir=log_dir, histogram_freq=1)\n",
        "\n",
        "cb_lrscheduler = tf.keras.callbacks.LearningRateScheduler(lambda epoch: 1e-5 * 10**(epoch/5))\n"
      ],
      "execution_count": 190,
      "outputs": []
    },
    {
      "cell_type": "code",
      "metadata": {
        "id": "jJbY7oqZZcYr",
        "colab_type": "code",
        "colab": {
          "base_uri": "https://localhost:8080/",
          "height": 357
        },
        "outputId": "7c0f9a25-4456-4045-e6ac-828c2a49f310"
      },
      "source": [
        "EPOCHS=10\n",
        "BATCH_SIZE = 128\n",
        "\n",
        "history = model.fit(\n",
        "    train_padded, train_labels,\n",
        "    epochs=EPOCHS,\n",
        "    batch_size=BATCH_SIZE,\n",
        "    validation_data=(val_padded, val_labels)\n",
        ")\n"
      ],
      "execution_count": 191,
      "outputs": [
        {
          "output_type": "stream",
          "text": [
            "Epoch 1/10\n",
            "196/196 [==============================] - 8s 40ms/step - loss: 0.5056 - accuracy: 0.7560 - val_loss: 0.4801 - val_accuracy: 0.7794\n",
            "Epoch 2/10\n",
            "196/196 [==============================] - 7s 34ms/step - loss: 0.3416 - accuracy: 0.8661 - val_loss: 0.3765 - val_accuracy: 0.8393\n",
            "Epoch 3/10\n",
            "196/196 [==============================] - 7s 34ms/step - loss: 0.2454 - accuracy: 0.9036 - val_loss: 0.3893 - val_accuracy: 0.8411\n",
            "Epoch 4/10\n",
            "196/196 [==============================] - 7s 34ms/step - loss: 0.1730 - accuracy: 0.9390 - val_loss: 0.3737 - val_accuracy: 0.8478\n",
            "Epoch 5/10\n",
            "196/196 [==============================] - 7s 34ms/step - loss: 0.1284 - accuracy: 0.9574 - val_loss: 0.4472 - val_accuracy: 0.8410\n",
            "Epoch 6/10\n",
            "196/196 [==============================] - 7s 34ms/step - loss: 0.1051 - accuracy: 0.9660 - val_loss: 0.4967 - val_accuracy: 0.8410\n",
            "Epoch 7/10\n",
            "196/196 [==============================] - 7s 34ms/step - loss: 0.0797 - accuracy: 0.9753 - val_loss: 0.5801 - val_accuracy: 0.8375\n",
            "Epoch 8/10\n",
            "196/196 [==============================] - 7s 34ms/step - loss: 0.0631 - accuracy: 0.9797 - val_loss: 0.6691 - val_accuracy: 0.8375\n",
            "Epoch 9/10\n",
            "196/196 [==============================] - 7s 34ms/step - loss: 0.0503 - accuracy: 0.9844 - val_loss: 0.6699 - val_accuracy: 0.8407\n",
            "Epoch 10/10\n",
            "196/196 [==============================] - 7s 34ms/step - loss: 0.0398 - accuracy: 0.9881 - val_loss: 0.6977 - val_accuracy: 0.8361\n"
          ],
          "name": "stdout"
        }
      ]
    },
    {
      "cell_type": "code",
      "metadata": {
        "id": "s1tCQsOEZoqa",
        "colab_type": "code",
        "colab": {
          "base_uri": "https://localhost:8080/",
          "height": 513
        },
        "outputId": "b1746c77-7c08-46be-eaff-a03dc107891a"
      },
      "source": [
        "acc = history.history['accuracy']\n",
        "val_acc = history.history['val_accuracy']\n",
        "loss = history.history['loss']\n",
        "val_loss = history.history['val_loss']\n",
        "epochs = range(len(acc))\n",
        "\n",
        "plt.plot(epochs, acc, label='Training Accuracy')\n",
        "plt.plot(epochs, val_acc, label='Validation Accuracy')\n",
        "plt.legend()\n",
        "\n",
        "plt.figure()\n",
        "plt.plot(epochs, loss, label='Training Loss')\n",
        "plt.plot(epochs, val_loss, label='Validation Loss')\n",
        "plt.legend()\n",
        "\n",
        "plt.show()\n"
      ],
      "execution_count": 192,
      "outputs": [
        {
          "output_type": "display_data",
          "data": {
            "image/png": "[encoded data removed]",
            "text/plain": [
              "<Figure size 432x288 with 1 Axes>"
            ]
          },
          "metadata": {
            "tags": [],
            "needs_background": "light"
          }
        },
        {
          "output_type": "display_data",
          "data": {
            "image/png": "[encoded data removed]",
            "text/plain": [
              "<Figure size 432x288 with 1 Axes>"
            ]
          },
          "metadata": {
            "tags": [],
            "needs_background": "light"
          }
        }
      ]
    },
    {
      "cell_type": "code",
      "metadata": {
        "id": "yO21iDe5efiw",
        "colab_type": "code",
        "colab": {
          "base_uri": "https://localhost:8080/",
          "height": 51
        },
        "outputId": "78daf061-72b3-43e3-d6cc-84f0b668a79a"
      },
      "source": [
        "model.evaluate(test_padded, test_labels)"
      ],
      "execution_count": 193,
      "outputs": [
        {
          "output_type": "stream",
          "text": [
            "391/391 [==============================] - 5s 12ms/step - loss: 0.7028 - accuracy: 0.8311\n"
          ],
          "name": "stdout"
        },
        {
          "output_type": "execute_result",
          "data": {
            "text/plain": [
              "[0.7027626633644104, 0.8311200141906738]"
            ]
          },
          "metadata": {
            "tags": []
          },
          "execution_count": 193
        }
      ]
    }
  ]
}